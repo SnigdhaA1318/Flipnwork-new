{
 "cells": [
  {
   "cell_type": "code",
   "execution_count": 6,
   "id": "f36167cf",
   "metadata": {},
   "outputs": [],
   "source": [
    "from selenium import webdriver\n",
    "import pandas as pd\n",
    "import numpy as np\n",
    "from selenium.common.exceptions import NoSuchElementException\n",
    "from selenium.webdriver.common.action_chains import ActionChains\n",
    "from selenium.webdriver.common.keys import Keys\n",
    "import time"
   ]
  },
  {
   "cell_type": "code",
   "execution_count": 7,
   "id": "23d9bce4",
   "metadata": {},
   "outputs": [],
   "source": [
    "driver = webdriver.Chrome('C:\\\\Desktop\\DT\\chromedriver.exe')\n",
    "url = 'https://www.cardekho.com/used-cars+in+ahmedabad'\n",
    "driver.get(url)\n",
    "time.sleep(2)"
   ]
  },
  {
   "cell_type": "code",
   "execution_count": 8,
   "id": "3f7127b7",
   "metadata": {},
   "outputs": [],
   "source": [
    "## scrolling the maximum links of the page\n",
    "\n",
    "for i in range(0,300):\n",
    "    driver.execute_script(\"window.scrollBy(0,1000)\")\n",
    "    time.sleep(1)\n",
    "    driver.execute_script(\"window.scrollBy(0,-100)\")"
   ]
  },
  {
   "cell_type": "code",
   "execution_count": 9,
   "id": "b71b1d9e",
   "metadata": {},
   "outputs": [],
   "source": [
    "links = []"
   ]
  },
  {
   "cell_type": "code",
   "execution_count": 10,
   "id": "3c4be411",
   "metadata": {},
   "outputs": [],
   "source": [
    "# extracting the links of cars present in side the link of the city\n",
    "urls = driver.find_elements_by_xpath('//div[@class=\"gsc_col-xs-7 carsName\"]//a')\n",
    "for i in urls:\n",
    "    links.append(i.get_attribute('href'))"
   ]
  },
  {
   "cell_type": "code",
   "execution_count": 11,
   "id": "5a249eda",
   "metadata": {},
   "outputs": [
    {
     "name": "stdout",
     "output_type": "stream",
     "text": [
      "1345\n"
     ]
    }
   ],
   "source": [
    "print(len(links))"
   ]
  },
  {
   "cell_type": "code",
   "execution_count": 20,
   "id": "be42c9b6",
   "metadata": {},
   "outputs": [],
   "source": [
    "# defining lists of various features of cars:\n",
    "\n",
    "price = []\n",
    "man_year = []\n",
    "car_title = []\n",
    "fuel_type = []\n",
    "transmission = []\n",
    "mileage = []\n",
    "color = []\n",
    "owner =[]\n",
    "steering_type = []\n",
    "seats = []\n",
    "insur_avail = []\n",
    "cargo_volume =[]\n",
    "num_doors = []\n",
    "turning_radius = []\n",
    "kms_driven = []\n",
    "engine = []"
   ]
  },
  {
   "cell_type": "code",
   "execution_count": 27,
   "id": "dd1e25d8",
   "metadata": {
    "collapsed": true
   },
   "outputs": [
    {
     "ename": "NoSuchWindowException",
     "evalue": "Message: no such window: window was already closed\n  (Session info: chrome=94.0.4606.71)\n",
     "output_type": "error",
     "traceback": [
      "\u001b[1;31m---------------------------------------------------------------------------\u001b[0m",
      "\u001b[1;31mNoSuchWindowException\u001b[0m                     Traceback (most recent call last)",
      "\u001b[1;32m<ipython-input-27-c16211058801>\u001b[0m in \u001b[0;36m<module>\u001b[1;34m\u001b[0m\n\u001b[0;32m      1\u001b[0m \u001b[1;32mfor\u001b[0m \u001b[0mlink\u001b[0m \u001b[1;32min\u001b[0m \u001b[0mlinks\u001b[0m\u001b[1;33m[\u001b[0m\u001b[1;36m800\u001b[0m\u001b[1;33m:\u001b[0m\u001b[1;36m900\u001b[0m\u001b[1;33m]\u001b[0m\u001b[1;33m:\u001b[0m\u001b[1;33m\u001b[0m\u001b[1;33m\u001b[0m\u001b[0m\n\u001b[1;32m----> 2\u001b[1;33m     \u001b[0mdriver\u001b[0m\u001b[1;33m.\u001b[0m\u001b[0mget\u001b[0m\u001b[1;33m(\u001b[0m\u001b[0mlink\u001b[0m\u001b[1;33m)\u001b[0m\u001b[1;33m\u001b[0m\u001b[1;33m\u001b[0m\u001b[0m\n\u001b[0m\u001b[0;32m      3\u001b[0m     \u001b[0mtime\u001b[0m\u001b[1;33m.\u001b[0m\u001b[0msleep\u001b[0m\u001b[1;33m(\u001b[0m\u001b[1;36m3\u001b[0m\u001b[1;33m)\u001b[0m\u001b[1;33m\u001b[0m\u001b[1;33m\u001b[0m\u001b[0m\n\u001b[0;32m      4\u001b[0m \u001b[1;33m\u001b[0m\u001b[0m\n\u001b[0;32m      5\u001b[0m \u001b[1;31m#title\u001b[0m\u001b[1;33m\u001b[0m\u001b[1;33m\u001b[0m\u001b[1;33m\u001b[0m\u001b[0m\n",
      "\u001b[1;32m~\\anaconda3\\lib\\site-packages\\selenium\\webdriver\\remote\\webdriver.py\u001b[0m in \u001b[0;36mget\u001b[1;34m(self, url)\u001b[0m\n\u001b[0;32m    331\u001b[0m         \u001b[0mLoads\u001b[0m \u001b[0ma\u001b[0m \u001b[0mweb\u001b[0m \u001b[0mpage\u001b[0m \u001b[1;32min\u001b[0m \u001b[0mthe\u001b[0m \u001b[0mcurrent\u001b[0m \u001b[0mbrowser\u001b[0m \u001b[0msession\u001b[0m\u001b[1;33m.\u001b[0m\u001b[1;33m\u001b[0m\u001b[1;33m\u001b[0m\u001b[0m\n\u001b[0;32m    332\u001b[0m         \"\"\"\n\u001b[1;32m--> 333\u001b[1;33m         \u001b[0mself\u001b[0m\u001b[1;33m.\u001b[0m\u001b[0mexecute\u001b[0m\u001b[1;33m(\u001b[0m\u001b[0mCommand\u001b[0m\u001b[1;33m.\u001b[0m\u001b[0mGET\u001b[0m\u001b[1;33m,\u001b[0m \u001b[1;33m{\u001b[0m\u001b[1;34m'url'\u001b[0m\u001b[1;33m:\u001b[0m \u001b[0murl\u001b[0m\u001b[1;33m}\u001b[0m\u001b[1;33m)\u001b[0m\u001b[1;33m\u001b[0m\u001b[1;33m\u001b[0m\u001b[0m\n\u001b[0m\u001b[0;32m    334\u001b[0m \u001b[1;33m\u001b[0m\u001b[0m\n\u001b[0;32m    335\u001b[0m     \u001b[1;33m@\u001b[0m\u001b[0mproperty\u001b[0m\u001b[1;33m\u001b[0m\u001b[1;33m\u001b[0m\u001b[0m\n",
      "\u001b[1;32m~\\anaconda3\\lib\\site-packages\\selenium\\webdriver\\remote\\webdriver.py\u001b[0m in \u001b[0;36mexecute\u001b[1;34m(self, driver_command, params)\u001b[0m\n\u001b[0;32m    319\u001b[0m         \u001b[0mresponse\u001b[0m \u001b[1;33m=\u001b[0m \u001b[0mself\u001b[0m\u001b[1;33m.\u001b[0m\u001b[0mcommand_executor\u001b[0m\u001b[1;33m.\u001b[0m\u001b[0mexecute\u001b[0m\u001b[1;33m(\u001b[0m\u001b[0mdriver_command\u001b[0m\u001b[1;33m,\u001b[0m \u001b[0mparams\u001b[0m\u001b[1;33m)\u001b[0m\u001b[1;33m\u001b[0m\u001b[1;33m\u001b[0m\u001b[0m\n\u001b[0;32m    320\u001b[0m         \u001b[1;32mif\u001b[0m \u001b[0mresponse\u001b[0m\u001b[1;33m:\u001b[0m\u001b[1;33m\u001b[0m\u001b[1;33m\u001b[0m\u001b[0m\n\u001b[1;32m--> 321\u001b[1;33m             \u001b[0mself\u001b[0m\u001b[1;33m.\u001b[0m\u001b[0merror_handler\u001b[0m\u001b[1;33m.\u001b[0m\u001b[0mcheck_response\u001b[0m\u001b[1;33m(\u001b[0m\u001b[0mresponse\u001b[0m\u001b[1;33m)\u001b[0m\u001b[1;33m\u001b[0m\u001b[1;33m\u001b[0m\u001b[0m\n\u001b[0m\u001b[0;32m    322\u001b[0m             response['value'] = self._unwrap_value(\n\u001b[0;32m    323\u001b[0m                 response.get('value', None))\n",
      "\u001b[1;32m~\\anaconda3\\lib\\site-packages\\selenium\\webdriver\\remote\\errorhandler.py\u001b[0m in \u001b[0;36mcheck_response\u001b[1;34m(self, response)\u001b[0m\n\u001b[0;32m    240\u001b[0m                 \u001b[0malert_text\u001b[0m \u001b[1;33m=\u001b[0m \u001b[0mvalue\u001b[0m\u001b[1;33m[\u001b[0m\u001b[1;34m'alert'\u001b[0m\u001b[1;33m]\u001b[0m\u001b[1;33m.\u001b[0m\u001b[0mget\u001b[0m\u001b[1;33m(\u001b[0m\u001b[1;34m'text'\u001b[0m\u001b[1;33m)\u001b[0m\u001b[1;33m\u001b[0m\u001b[1;33m\u001b[0m\u001b[0m\n\u001b[0;32m    241\u001b[0m             \u001b[1;32mraise\u001b[0m \u001b[0mexception_class\u001b[0m\u001b[1;33m(\u001b[0m\u001b[0mmessage\u001b[0m\u001b[1;33m,\u001b[0m \u001b[0mscreen\u001b[0m\u001b[1;33m,\u001b[0m \u001b[0mstacktrace\u001b[0m\u001b[1;33m,\u001b[0m \u001b[0malert_text\u001b[0m\u001b[1;33m)\u001b[0m\u001b[1;33m\u001b[0m\u001b[1;33m\u001b[0m\u001b[0m\n\u001b[1;32m--> 242\u001b[1;33m         \u001b[1;32mraise\u001b[0m \u001b[0mexception_class\u001b[0m\u001b[1;33m(\u001b[0m\u001b[0mmessage\u001b[0m\u001b[1;33m,\u001b[0m \u001b[0mscreen\u001b[0m\u001b[1;33m,\u001b[0m \u001b[0mstacktrace\u001b[0m\u001b[1;33m)\u001b[0m\u001b[1;33m\u001b[0m\u001b[1;33m\u001b[0m\u001b[0m\n\u001b[0m\u001b[0;32m    243\u001b[0m \u001b[1;33m\u001b[0m\u001b[0m\n\u001b[0;32m    244\u001b[0m     \u001b[1;32mdef\u001b[0m \u001b[0m_value_or_default\u001b[0m\u001b[1;33m(\u001b[0m\u001b[0mself\u001b[0m\u001b[1;33m,\u001b[0m \u001b[0mobj\u001b[0m\u001b[1;33m,\u001b[0m \u001b[0mkey\u001b[0m\u001b[1;33m,\u001b[0m \u001b[0mdefault\u001b[0m\u001b[1;33m)\u001b[0m\u001b[1;33m:\u001b[0m\u001b[1;33m\u001b[0m\u001b[1;33m\u001b[0m\u001b[0m\n",
      "\u001b[1;31mNoSuchWindowException\u001b[0m: Message: no such window: window was already closed\n  (Session info: chrome=94.0.4606.71)\n"
     ]
    }
   ],
   "source": [
    "## for all the links of the car exttractin features of each car:\n",
    "\n",
    "for link in links[0:1345]:\n",
    "    driver.get(link)\n",
    "    time.sleep(3)\n",
    "    \n",
    "#title\n",
    "    try:\n",
    "        name = driver.find_element_by_xpath('//div[@class=\"gsc_col-xs-12\"]/h1')\n",
    "        car_title.append(name.text)\n",
    "    except NoSuchElementException:\n",
    "        car_title.append('-')\n",
    "        time.sleep(2)\n",
    "# Price\n",
    "    try:\n",
    "        value = driver.find_element_by_xpath('//span[@class=\"amount\"]')\n",
    "        price.append(value.text)\n",
    "    except NoSuchElementException:\n",
    "        price.append('-')\n",
    "        time.sleep(2)\n",
    "        \n",
    "# make year\n",
    "    try:\n",
    "        year = driver.find_element_by_xpath('//ul[@class=\"gsc_row clearfix\"]//li[1]/div/div')\n",
    "        man_year.append(year.text)\n",
    "    except NoSuchElementException:\n",
    "        man_year.append('-')\n",
    "        time.sleep(2)\n",
    "        \n",
    "# Kilometers driven\n",
    "    try:\n",
    "        kms = driver.find_element_by_xpath('//ul[@class=\"gsc_row clearfix\"]//li[3]/div/div')\n",
    "        kms_driven.append(kms.text)\n",
    "    except NoSuchElementException:\n",
    "        kms_driven.append('-')\n",
    "        time.sleep(2)\n",
    "# owner\n",
    "    try:\n",
    "        own = driver.find_element_by_xpath('//ul[@class=\"gsc_row clearfix\"]//li[4]/div/div')\n",
    "        owner.append(own.text)\n",
    "    except NoSuchElementException:\n",
    "        owner.append('-')\n",
    "        time.sleep(2)\n",
    "        \n",
    "# fuel type\n",
    "    try:\n",
    "        fuel = driver.find_element_by_xpath('//ul[@class=\"gsc_row clearfix\"]//li[5]/div/div')\n",
    "        fuel_type.append(fuel.text)\n",
    "    except NoSuchElementException:\n",
    "        fuel_type.append('-')    \n",
    "        time.sleep(2)\n",
    "        \n",
    "# Transmission type\n",
    "    try:\n",
    "        trans = driver.find_element_by_xpath('//ul[@class=\"gsc_row clearfix\"]//li[6]/div/div')\n",
    "        transmission.append(trans.text)\n",
    "    except NoSuchElementException:\n",
    "        transmission.append('-')      \n",
    "        time.sleep(2)\n",
    "        \n",
    "# Insurance\n",
    "    try:\n",
    "        insur = driver.find_element_by_xpath('//ul[@class=\"gsc_row clearfix\"]//li[7]/div/div')\n",
    "        insur_avail.append(insur.text)\n",
    "    except NoSuchElementException:\n",
    "        insur_avail.append('-')   \n",
    "        time.sleep(2)\n",
    "        \n",
    "# mileage\n",
    "    try:\n",
    "        mile = driver.find_element_by_xpath(\"//ul[@class='gsc_row']/li[1]/div[2]\")\n",
    "        mileage.append(mile.text)\n",
    "    except NoSuchElementException:\n",
    "        mileage.append('-')\n",
    "        time.sleep(2)"
   ]
  },
  {
   "cell_type": "code",
   "execution_count": null,
   "id": "3bfe3cee",
   "metadata": {},
   "outputs": [],
   "source": [
    "for link in links[0:5]:\n",
    "    driver.get(link)\n",
    "    time.sleep(3)\n",
    "    det = driver.find_elements_by_xpath('//*[@id=\"specification-wdght\"]/div/div/div/ul/li/div')\n",
    "\n",
    "     for i in det:\n",
    "            text = i.find_element_by_xpath('div[1]').text\n",
    "            try:\n",
    "                if text == 'Color':\n",
    "                    color.append(i.find_element_by_xpath('div[2]').text)\n",
    "            except NoSuchElementException:\n",
    "                color.append('-')\n",
    "                time.sleep(2)\n",
    "        \n",
    "            try:\n",
    "                if text == 'Engine':\n",
    "                    engine.append(i.find_element_by_xpath('div[2]').text.replace('CC',''))\n",
    "                except NoSuchElementException:\n",
    "                    engine.append('-')\n",
    "                    time.sleep(2)\n",
    "\n",
    "            try:\n",
    "                if text == 'Seats':\n",
    "                    seats.append(i.find_element_by_xpath('div[2]').text)\n",
    "                except NoSuchElementException:\n",
    "                    seats.append('-')\n",
    "                    time.sleep(2)\n",
    "\n",
    "# steering type\n",
    "       \n",
    "            try:\n",
    "                if text == 'Steering Type':\n",
    "                    steering_type.append(i.find_elements_by_xpath('div[2]').text)\n",
    "            except NoSuchElementException:\n",
    "                steering_type.append('-')\n",
    "                time.sleep(2)\n",
    "        \n",
    "# turning radius\n",
    "            try:\n",
    "                if text == 'Turning Radius':\n",
    "                    turning_radius.append(i.find_elements_by_xpath('div[2]').text)\n",
    "            except NoSuchElementException:\n",
    "                turning_radius.append('-')\n",
    "                time.sleep(2)\n",
    "        \n",
    "# number of doors\n",
    "            try: \n",
    "                if text == 'No Door Numbers':\n",
    "                    num_doors.append(i.find_elements_by_xpath('div[2]').text)\n",
    "            except NoSuchElementException:\n",
    "                num_doors.append('-')\n",
    "                time.sleep(2)\n",
    "\n",
    "# cargo volume\n",
    "            try:\n",
    "                if text == 'Cargo Volumn':\n",
    "                    cargo_volume.append(i.find_elements_by_xpath('div[2]').text)\n",
    "            except NoSuchElementException:\n",
    "                cargo_volume.append('-')\n",
    "                time.sleep(2)       "
   ]
  },
  {
   "cell_type": "code",
   "execution_count": 12,
   "id": "363f9030",
   "metadata": {},
   "outputs": [],
   "source": [
    "engine = []\n",
    "color = []\n",
    "\n",
    "for link in links[0:5]:\n",
    "    driver.get(link)\n",
    "    time.sleep(3)\n",
    "    det = driver.find_elements_by_xpath('//*[@id=\"specification-wdght\"]/div/div/div/ul/li/div')\n",
    "    for i in det:\n",
    "        text = i.find_element_by_xpath('div[1]').text\n",
    "        \n",
    "        try:\n",
    "            if text == 'Color':\n",
    "                color.append(i.find_element_by_xpath('div[2]').text)\n",
    "        except NoSuchElementException:\n",
    "            color.append('-')\n",
    "        \n",
    "        try:\n",
    "            if text == 'Engine':\n",
    "                engine.append(i.find_element_by_xpath('div[2]').text.replace('CC',''))\n",
    "        except NoSuchElementException:\n",
    "            engine.append('-')\n",
    "\n",
    "        try:\n",
    "            if text == 'Seats':\n",
    "                seats.append(i.find_element_by_xpath('div[2]').text)\n",
    "        except NoSuchElementException:\n",
    "            seats.append('-')"
   ]
  },
  {
   "cell_type": "code",
   "execution_count": null,
   "id": "30328034",
   "metadata": {},
   "outputs": [],
   "source": [
    "## as per above process we repeat the same for all the below mentioned cities:\n",
    "\n",
    "'https://www.cardekho.com/used-cars+in+bangalore',\n",
    " 'https://www.cardekho.com/used-cars+in+chennai',\n",
    " 'https://www.cardekho.com/used-cars+in+delhi-ncr',\n",
    " 'https://www.cardekho.com/used-cars+in+gurgaon',\n",
    " 'https://www.cardekho.com/used-cars+in+hyderabad',\n",
    " 'https://www.cardekho.com/used-cars+in+jaipur',\n",
    " 'https://www.cardekho.com/used-cars+in+kolkata',\n",
    " 'https://www.cardekho.com/used-cars+in+mumbai',\n",
    " 'https://www.cardekho.com/used-cars+in+new-delhi',\n",
    " 'https://www.cardekho.com/used-cars+in+noida',\n",
    " 'https://www.cardekho.com/used-cars+in+pune'"
   ]
  },
  {
   "cell_type": "markdown",
   "id": "853acada",
   "metadata": {},
   "source": [
    "the data got from the above process, we make the dataframe and convert it to the csv file."
   ]
  },
  {
   "cell_type": "code",
   "execution_count": null,
   "id": "dae1a00f",
   "metadata": {},
   "outputs": [],
   "source": [
    "# path of all the csv files for the month\n",
    "\n",
    "path = r'C:\\Users\\Sadyo\\anaconda3\\used car'\n",
    "\n",
    "all_csv_files = glob.glob(os.path.join(path, \"*.csv\"))\n",
    "\n",
    "df_from_each_file = (pd.read_csv(f) for f in all_csv_files)\n",
    "\n",
    "# merging all the files for the month:\n",
    "\n",
    "con_df   = pd.concat(df_from_each_file, ignore_index=True)"
   ]
  },
  {
   "cell_type": "markdown",
   "id": "b54eadc6",
   "metadata": {},
   "source": [
    "data got here from this file has been used for analysis in next files."
   ]
  },
  {
   "cell_type": "code",
   "execution_count": null,
   "id": "3acd68ef",
   "metadata": {},
   "outputs": [],
   "source": []
  },
  {
   "cell_type": "code",
   "execution_count": null,
   "id": "3a91bff7",
   "metadata": {},
   "outputs": [],
   "source": []
  }
 ],
 "metadata": {
  "kernelspec": {
   "display_name": "Python 3",
   "language": "python",
   "name": "python3"
  },
  "language_info": {
   "codemirror_mode": {
    "name": "ipython",
    "version": 3
   },
   "file_extension": ".py",
   "mimetype": "text/x-python",
   "name": "python",
   "nbconvert_exporter": "python",
   "pygments_lexer": "ipython3",
   "version": "3.8.8"
  }
 },
 "nbformat": 4,
 "nbformat_minor": 5
}
